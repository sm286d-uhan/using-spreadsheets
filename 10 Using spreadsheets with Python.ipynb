{
 "cells": [
  {
   "cell_type": "markdown",
   "metadata": {
    "hide_cell": true
   },
   "source": [
    "<span class='note'><i>Make me look good.</i> Click on the cell below and press <kbd>Ctrl</kbd>+<kbd>Enter</kbd>.</span>"
   ]
  },
  {
   "cell_type": "code",
   "execution_count": 1,
   "metadata": {
    "hide_cell": true
   },
   "outputs": [
    {
     "data": {
      "text/html": [
       "<link href='http://fonts.googleapis.com/css?family=Lora:400,700,400i,700i' rel='stylesheet'>\n",
       "<link href='https://fonts.googleapis.com/css?family=Lato:300,400,700,300i,400i,700i' rel='stylesheet'>\n",
       "<link href='https://fonts.googleapis.com/css?family=Inconsolata:400' rel='stylesheet'>\n",
       "<link rel=\"stylesheet\" href=\"http://maxcdn.bootstrapcdn.com/font-awesome/4.3.0/css/font-awesome.min.css\">\n",
       "<style>\n",
       "    h1, h2, h3, h4, h5 {\n",
       "        font-family: 'Lato', sans-serif;\n",
       "    }\n",
       "    h5 {\n",
       "        font-style: normal;\n",
       "    }\n",
       "    kbd {\n",
       "        font-family: Lato, serif;\n",
       "    }\n",
       "    hr {\n",
       "      border-width: 2px;\n",
       "      border-color: #a9a9a9;\n",
       "    }\n",
       "    .cite {\n",
       "        font-size: 85%;\n",
       "        text-align: right;\n",
       "        margin-top: 10px;\n",
       "    }\n",
       "    .note {\n",
       "        font-family: Lora, serif;\n",
       "        font-size: 10pt;\n",
       "        font-weight: 400;\n",
       "        margin-top: 0;\n",
       "        margin-bottom: 0;\n",
       "    }\n",
       "    h5.prehead {\n",
       "        font-family: Lato, serif;\n",
       "        font-style: normal;\n",
       "        font-size: 13pt;\n",
       "        font-weight: 300;\n",
       "        margin-bottom: 15px;\n",
       "        margin-top: 30px;\n",
       "    }\n",
       "    h5.lesson {\n",
       "        font-family: Lato, serif;\n",
       "        font-weight: 400;\n",
       "        font-size: 15pt;\n",
       "        font-style: normal;\n",
       "        margin-top: 0px;\n",
       "        margin-bottom: 5px;\n",
       "    }\n",
       "    h1.lesson_title {\n",
       "        font-family: Lato, serif;\n",
       "        font-weight: 300;\n",
       "        font-size: 32pt;\n",
       "        line-height: 110%;\n",
       "        color:#CD2305;\n",
       "        margin-top: 0px;\n",
       "        margin-bottom: 15px;\n",
       "    }\n",
       "    div.cell{\n",
       "        max-width: 960px;\n",
       "        margin-left: auto;\n",
       "        margin-right: auto;\n",
       "    }\n",
       "    div.text_cell_render {\n",
       "        font-family: Lora, serif;\n",
       "        line-height: 160%;\n",
       "        font-size: 11pt;\n",
       "    }\n",
       "    .rendered_html pre, .rendered_html code  {\n",
       "        font-family: Inconsolata, monospace !important;\n",
       "        font-size: 11pt;\n",
       "    }\n",
       "    div.CodeMirror, div.output_area pre, div.prompt {\n",
       "        font-family: Inconsolata, monospace !important;\n",
       "        font-size: 110%;\n",
       "    }\n",
       "    .rendered_html ul li {\n",
       "        margin-top: 0.75em;\n",
       "        margin-bottom: 0.75em;\n",
       "    }\n",
       "    .rendered_html ul li ul li {\n",
       "        margin-top: 0.5em;\n",
       "        margin-bottom: 0.5em;\n",
       "    }\n",
       "    .rred {\n",
       "        color: #a00000;\n",
       "    }\n",
       "</style>\n",
       "<script>\n",
       "    MathJax.Hub.Config({\n",
       "                        TeX: {\n",
       "                           extensions: [\"AMSmath.js\"]\n",
       "                           },\n",
       "                tex2jax: {\n",
       "                    inlineMath: [ ['$','$'], [\"\\\\(\",\"\\\\)\"] ],\n",
       "                    displayMath: [ ['$$','$$'], [\"\\\\[\",\"\\\\]\"] ]\n",
       "                },\n",
       "                displayAlign: 'center', // Change this to 'center' to center equations.\n",
       "                \"HTML-CSS\": {\n",
       "                    styles: {'.MathJax_Display': {\"margin\": \"0.75em 0\"}}\n",
       "                }\n",
       "        });\n",
       "</script>\n"
      ],
      "text/plain": [
       "<IPython.core.display.HTML object>"
      ]
     },
     "execution_count": 1,
     "metadata": {},
     "output_type": "execute_result"
    }
   ],
   "source": [
    "from IPython.core.display import HTML\n",
    "HTML(open('css/custom.css', 'r').read())"
   ]
  },
  {
   "cell_type": "markdown",
   "metadata": {
    "hide_cell": true
   },
   "source": [
    "<h5 class='prehead'>SM286D &middot; Introduction to Applied Mathematics with Python &middot; Spring 2020 &middot; Uhan</h5>\n",
    "\n",
    "<h5 class='lesson'>Lesson 10.</h5>\n",
    "\n",
    "<h1 class='lesson_title'>Using spreadsheets with Python</h1>"
   ]
  },
  {
   "cell_type": "markdown",
   "metadata": {},
   "source": [
    "## This lesson..."
   ]
  },
  {
   "cell_type": "markdown",
   "metadata": {},
   "source": [
    "- Making Python work with Excel using the xlwings package"
   ]
  },
  {
   "cell_type": "markdown",
   "metadata": {},
   "source": [
    "---"
   ]
  },
  {
   "cell_type": "markdown",
   "metadata": {},
   "source": [
    "## Before we begin, some Excel terminology"
   ]
  },
  {
   "cell_type": "markdown",
   "metadata": {},
   "source": [
    "- A __workbook__ is an Excel spreadsheet file. \n",
    "\n",
    "- A workbook consists of one or more __worksheets__ (or __sheets__).\n",
    "    - You can access different sheets in a workbook with the tabs at the bottom of the Excel window.\n",
    "\n",
    "- A sheet consists of a matrix of __cells__.\n",
    "    - Most data in a sheet must be placed in a cell. (Exceptions include charts, special text boxes, etc.)\n",
    "\n",
    "- A __cell range__ is a collection of cells."
   ]
  },
  {
   "cell_type": "markdown",
   "metadata": {},
   "source": [
    "---"
   ]
  },
  {
   "cell_type": "markdown",
   "metadata": {},
   "source": [
    "## A short introduction to xlwings"
   ]
  },
  {
   "cell_type": "markdown",
   "metadata": {},
   "source": [
    "- [xlwings](https://www.xlwings.org/) is a free, open source package that allows Python to connect to Microsoft Excel.  \n",
    "    - xlwings is included with Anaconda, but may need to be installed separately if you use a different Python distribution.\n",
    "    - [xlwings Documentation](https://docs.xlwings.org/en/stable/)"
   ]
  },
  {
   "cell_type": "markdown",
   "metadata": {},
   "source": [
    "- Let's look at an example of how to use xlwings.\n",
    "\n",
    "- In the same folder as this notebook, there is a file called `PopulationByState2018.xlsx`. This is an Excel workbook. Open this workbook in Excel.\n",
    "\n",
    "- Let's start by:\n",
    "    - importing xlwings,\n",
    "    - defining the path to the workbook, and\n",
    "    - creating an xlwings Workbook object that points to `PopulationByState2018.xlsx`."
   ]
  },
  {
   "cell_type": "code",
   "execution_count": 2,
   "metadata": {},
   "outputs": [],
   "source": [
    "# Import xlwings\n",
    "import xlwings as xw\n",
    "\n",
    "# Define the path to the Excel workbook we want to open\n",
    "filename = 'PopulationByState2018.xlsx'\n",
    "\n",
    "# Create a Book object that points to the Excel workbook\n",
    "wb = xw.Book(filename)"
   ]
  },
  {
   "cell_type": "markdown",
   "metadata": {},
   "source": [
    "- _Pro tips._\n",
    "    - Open the workbook you want to work with in Excel before doing anything with xlwings.\n",
    "    - Use a path/filename that **DOES NOT** contain spaces."
   ]
  },
  {
   "cell_type": "markdown",
   "metadata": {},
   "source": [
    "- We can access a particular sheet in an Excel workbook like this:"
   ]
  },
  {
   "cell_type": "code",
   "execution_count": 3,
   "metadata": {},
   "outputs": [],
   "source": [
    "# Grab the data from the \"Population\" sheet\n",
    "data = wb.sheets['Population']"
   ]
  },
  {
   "cell_type": "markdown",
   "metadata": {},
   "source": [
    "<img src=\"img/population_sheet.png\" width=50%>\n",
    "<center> Figure 1. The \"Population\" sheet.</center>"
   ]
  },
  {
   "cell_type": "markdown",
   "metadata": {},
   "source": [
    "- We can store the information in the cells from A2 to A51 in a variable called `state_names` like this:"
   ]
  },
  {
   "cell_type": "code",
   "execution_count": 4,
   "metadata": {},
   "outputs": [],
   "source": [
    "# Grab state names from the sheet\n",
    "state_names = data.range('A2', 'A51').value"
   ]
  },
  {
   "cell_type": "markdown",
   "metadata": {},
   "source": [
    "<img src=\"img/column_A.png\" width=25%>\n",
    "<center> Figure 2. Column A.</center>"
   ]
  },
  {
   "cell_type": "markdown",
   "metadata": {},
   "source": [
    "- What is the type of `state_names`?"
   ]
  },
  {
   "cell_type": "code",
   "execution_count": 5,
   "metadata": {},
   "outputs": [
    {
     "name": "stdout",
     "output_type": "stream",
     "text": [
      "<class 'list'>\n"
     ]
    }
   ],
   "source": [
    "print(type(state_names))"
   ]
  },
  {
   "cell_type": "markdown",
   "metadata": {},
   "source": [
    "- We can print the value of `state_names` to check that we have all the information that we are expecting:"
   ]
  },
  {
   "cell_type": "code",
   "execution_count": 6,
   "metadata": {},
   "outputs": [
    {
     "name": "stdout",
     "output_type": "stream",
     "text": [
      "['Alabama', 'Alaska', 'Arizona', 'Arkansas', 'California', 'Colorado', 'Connecticut', 'Delaware', 'Florida', 'Georgia', 'Hawaii', 'Idaho', 'Illinois', 'Indiana', 'Iowa', 'Kansas', 'Kentucky', 'Louisiana', 'Maine', 'Maryland', 'Massachusetts', 'Michigan', 'Minnesota', 'Mississippi', 'Missouri', 'Montana', 'Nebraska', 'Nevada', 'New Hampshire', 'New Jersey', 'New Mexico', 'New York', 'North Carolina', 'North Dakota', 'Ohio', 'Oklahoma', 'Oregon', 'Pennsylvania', 'Rhode Island', 'South Carolina', 'South Dakota', 'Tennessee', 'Texas', 'Utah', 'Vermont', 'Virginia', 'Washington', 'West Virginia', 'Wisconsin', 'Wyoming']\n"
     ]
    }
   ],
   "source": [
    "print(state_names)"
   ]
  },
  {
   "cell_type": "markdown",
   "metadata": {},
   "source": [
    "- Using code similar to what we wrote for `state_names`, we can read the state popluations from the spreadsheet:"
   ]
  },
  {
   "cell_type": "code",
   "execution_count": 7,
   "metadata": {},
   "outputs": [
    {
     "name": "stdout",
     "output_type": "stream",
     "text": [
      "[4887871.0, 737438.0, 7171646.0, 3013825.0, 39557045.0, 5695564.0, 3572665.0, 967171.0, 21299325.0, 10519475.0, 1420491.0, 1754208.0, 12741080.0, 6691878.0, 3156145.0, 2911505.0, 4468402.0, 4659978.0, 1338404.0, 6042718.0, 6902149.0, 9995915.0, 5611179.0, 2986530.0, 6126452.0, 1062305.0, 1929268.0, 3034392.0, 1356458.0, 8908520.0, 2095428.0, 19542209.0, 10383620.0, 760077.0, 11689442.0, 3943079.0, 4190713.0, 12807060.0, 1057315.0, 5084127.0, 882235.0, 6770010.0, 28701845.0, 3161105.0, 626299.0, 8517685.0, 7535591.0, 1805832.0, 5813568.0, 577737.0]\n"
     ]
    }
   ],
   "source": [
    "# Grab state populations from the sheet\n",
    "state_populations = data.range('B2', 'B51').value\n",
    "\n",
    "# Check our work\n",
    "print(state_populations)"
   ]
  },
  {
   "cell_type": "markdown",
   "metadata": {},
   "source": [
    "- Now that we've read the data from the spreadsheet, we can work with it in Python.  \n",
    "\n",
    "- First, let's make a dictionary that maps states to populations:"
   ]
  },
  {
   "cell_type": "code",
   "execution_count": 8,
   "metadata": {},
   "outputs": [
    {
     "name": "stdout",
     "output_type": "stream",
     "text": [
      "{'Alabama': 4887871, 'Alaska': 737438, 'Arizona': 7171646, 'Arkansas': 3013825, 'California': 39557045, 'Colorado': 5695564, 'Connecticut': 3572665, 'Delaware': 967171, 'Florida': 21299325, 'Georgia': 10519475, 'Hawaii': 1420491, 'Idaho': 1754208, 'Illinois': 12741080, 'Indiana': 6691878, 'Iowa': 3156145, 'Kansas': 2911505, 'Kentucky': 4468402, 'Louisiana': 4659978, 'Maine': 1338404, 'Maryland': 6042718, 'Massachusetts': 6902149, 'Michigan': 9995915, 'Minnesota': 5611179, 'Mississippi': 2986530, 'Missouri': 6126452, 'Montana': 1062305, 'Nebraska': 1929268, 'Nevada': 3034392, 'New Hampshire': 1356458, 'New Jersey': 8908520, 'New Mexico': 2095428, 'New York': 19542209, 'North Carolina': 10383620, 'North Dakota': 760077, 'Ohio': 11689442, 'Oklahoma': 3943079, 'Oregon': 4190713, 'Pennsylvania': 12807060, 'Rhode Island': 1057315, 'South Carolina': 5084127, 'South Dakota': 882235, 'Tennessee': 6770010, 'Texas': 28701845, 'Utah': 3161105, 'Vermont': 626299, 'Virginia': 8517685, 'Washington': 7535591, 'West Virginia': 1805832, 'Wisconsin': 5813568, 'Wyoming': 577737}\n"
     ]
    }
   ],
   "source": [
    "# Initialize dictionary\n",
    "population = {}\n",
    "\n",
    "# Add entries to dictionary\n",
    "# Convert population values to integers\n",
    "for i in range(len(state_names)):\n",
    "    population[state_names[i]] = int(state_populations[i])\n",
    "\n",
    "# Check our work\n",
    "print(population)"
   ]
  },
  {
   "cell_type": "markdown",
   "metadata": {},
   "source": [
    "- Next, we can find the state with the largest population:"
   ]
  },
  {
   "cell_type": "code",
   "execution_count": 9,
   "metadata": {},
   "outputs": [
    {
     "name": "stdout",
     "output_type": "stream",
     "text": [
      "The state with the largest population is California, with a population of 39557045.\n"
     ]
    }
   ],
   "source": [
    "# Initialize maximum population and corresponding state\n",
    "max_pop = -float(\"inf\")\n",
    "max_pop_state = \"\"\n",
    "\n",
    "# Iterate over dictionary and update maximum population and corresponding state\n",
    "for state, pop in population.items():\n",
    "    if pop > max_pop:\n",
    "        max_pop = pop\n",
    "        max_pop_state = state\n",
    "\n",
    "# Print our findings\n",
    "print(f\"The state with the largest population is {max_pop_state}, with a population of {max_pop}.\")"
   ]
  },
  {
   "cell_type": "markdown",
   "metadata": {},
   "source": [
    "- We can also find the state with the smallest population:"
   ]
  },
  {
   "cell_type": "code",
   "execution_count": 10,
   "metadata": {},
   "outputs": [
    {
     "name": "stdout",
     "output_type": "stream",
     "text": [
      "The state with the smallest population is Wyoming, with a population of 577737.\n"
     ]
    }
   ],
   "source": [
    "# Initialize minimum population and corresponding state\n",
    "min_pop = float(\"inf\")\n",
    "min_pop_state = \"\"\n",
    "\n",
    "# Iterate over dictionary and update minimum population and corresponding state\n",
    "for state, pop in population.items():\n",
    "    if pop < min_pop:\n",
    "        min_pop = pop\n",
    "        min_pop_state = state\n",
    "\n",
    "# Print our findings\n",
    "print(f\"The state with the smallest population is {min_pop_state}, with a population of {min_pop}.\")"
   ]
  },
  {
   "cell_type": "markdown",
   "metadata": {},
   "source": [
    "- Now that we've done some analysis on the data in Python, we can write the results of the analysis back to the Excel worbook.\n",
    "\n",
    "- First, let's manually create a new worksheet in the Excel workbook:\n",
    "    - Click on the + sign at the bottom of the Excel file near the __Population__ worksheet tab.\n",
    "    - After you click on the + sign, Excel will create a new sheet called __Sheet1__ by default.\n",
    "    - Right-click on the name __Sheet1__ and select __Rename__.\n",
    "    - Change the name of the worksheet to __Stats__ as shown in the image below.\n",
    "\n",
    "<img src=\"img/add_sheet.png\" width=50%>\n",
    "<center> Figure 3. Manually adding a worksheet to an Excel file.</center>\n",
    "\n",
    "<img src=\"img/stats_sheet.png\" width=50%>\n",
    "<center> Figure 4. New worksheet named \"Stats\".</center>\n",
    "\n",
    "- Later, we'll see how you can add a worksheet directly from Python using xlwings.  "
   ]
  },
  {
   "cell_type": "markdown",
   "metadata": {},
   "source": [
    "- We can now write our results back to the newly created worksheet, `Stats`, like this:"
   ]
  },
  {
   "cell_type": "code",
   "execution_count": 11,
   "metadata": {
    "scrolled": true
   },
   "outputs": [],
   "source": [
    "# Create a link to the \"Stats\" sheet\n",
    "stats = wb.sheets['Stats']\n",
    "\n",
    "# Create the column headings\n",
    "stats.range('A1', 'B1').value = ['Name', 'Population']\n",
    "\n",
    "# Write the name and population for the state that has the largest population\n",
    "stats.range('A2', 'B2').value = [max_pop_state, max_pop]\n",
    "\n",
    "# Write a description of this information\n",
    "stats.range('C2').value = \"This state has the largest population.\"\n",
    "\n",
    "# Now write the name and population for the state that has the smallest population\n",
    "stats.range('A3', 'B3').value = [min_pop_state, min_pop]\n",
    "\n",
    "# Write a description of this information\n",
    "stats.range('C3').value = \"This state has the smallest population.\""
   ]
  },
  {
   "cell_type": "markdown",
   "metadata": {},
   "source": [
    "- Your code should produce output like that shown in the figure below.  \n",
    "\n",
    "- Don't forget to save your finished spreadsheet by clicking on the image of the disk at the top left corner of the Excel window."
   ]
  },
  {
   "cell_type": "markdown",
   "metadata": {},
   "source": [
    "<img src=\"img/output.png\" width=50%>\n",
    "<center>Figure 5. Results written back to spreadsheet.</center>"
   ]
  },
  {
   "cell_type": "markdown",
   "metadata": {},
   "source": [
    "---"
   ]
  },
  {
   "cell_type": "markdown",
   "metadata": {},
   "source": [
    "## xlwings Quickstart &mdash; on your own"
   ]
  },
  {
   "cell_type": "markdown",
   "metadata": {},
   "source": [
    "We will begin with some small examples from the xlwings Quickstart, which can be found [here](https://docs.xlwings.org/en/stable/quickstart.html)."
   ]
  },
  {
   "cell_type": "markdown",
   "metadata": {},
   "source": [
    "1\\. Begin by creating a new Excel workbook, and save it to the same folder as this notebook, with the file name `Lesson10.xlsx`."
   ]
  },
  {
   "cell_type": "markdown",
   "metadata": {},
   "source": [
    "2\\. We can establish a connection to this Excel workbook using the following commands. "
   ]
  },
  {
   "cell_type": "code",
   "execution_count": 12,
   "metadata": {},
   "outputs": [],
   "source": [
    "# Import xlwings\n",
    "import xlwings as xw\n",
    "\n",
    "# Create a Book object that points to the Excel workbook\n",
    "# To avoid headache, do NOT use file names and paths with spaces\n",
    "wb = xw.Book('Lesson10.xlsx')"
   ]
  },
  {
   "cell_type": "markdown",
   "metadata": {},
   "source": [
    "_Pro tip._ To avoid headache, do **not** file names and paths with spaces."
   ]
  },
  {
   "cell_type": "markdown",
   "metadata": {},
   "source": [
    "3\\.  Next we will create a link to the worksheet __Sheet1__ in the Excel file, and write a value to that worksheet."
   ]
  },
  {
   "cell_type": "code",
   "execution_count": 13,
   "metadata": {},
   "outputs": [],
   "source": [
    "# Create Sheet object and link it to Sheet1\n",
    "sht = wb.sheets['Sheet1']\n",
    "\n",
    "# Write value \"Foo 1\" to cell A1 on Sheet1\n",
    "sht.range('A1').value = 'Foo 1'"
   ]
  },
  {
   "cell_type": "markdown",
   "metadata": {},
   "source": [
    "4\\.  We can also read values from the spreadsheet."
   ]
  },
  {
   "cell_type": "code",
   "execution_count": 14,
   "metadata": {},
   "outputs": [
    {
     "name": "stdout",
     "output_type": "stream",
     "text": [
      "Foo 1\n"
     ]
    }
   ],
   "source": [
    "# Read value from cell A1 on Sheet1\n",
    "my_str = sht.range('A1').value\n",
    "\n",
    "# Print this value\n",
    "print(my_str)"
   ]
  },
  {
   "cell_type": "markdown",
   "metadata": {},
   "source": [
    "5\\. We can also add a worksheet to an existing Excel workbook."
   ]
  },
  {
   "cell_type": "code",
   "execution_count": 15,
   "metadata": {},
   "outputs": [],
   "source": [
    "# Add worksheet to our workbook\n",
    "# Call it Data, place it after Sheet1\n",
    "# We can access this new worksheet in Python with data_sht\n",
    "data_sht = wb.sheets.add('Data', after='Sheet1')"
   ]
  },
  {
   "cell_type": "markdown",
   "metadata": {},
   "source": [
    "_Pro tip._ You will get an error if you try to add a sheet with a name that already exists in the Excel file."
   ]
  },
  {
   "cell_type": "markdown",
   "metadata": {},
   "source": [
    "6\\. We can read single cells using xlwings. By default, single cells are returned either as `float`, `unicode`, `None`, or `datetime` objects depending on whether the cell contains a number, a string, is empty, or represents a date, respectively. Below is an example of a float value being read:"
   ]
  },
  {
   "cell_type": "code",
   "execution_count": 16,
   "metadata": {},
   "outputs": [
    {
     "name": "stdout",
     "output_type": "stream",
     "text": [
      "1.0\n"
     ]
    }
   ],
   "source": [
    "# Float example\n",
    "data_sht.range('A1').value = 1\n",
    "print(data_sht.range('A1').value)"
   ]
  },
  {
   "cell_type": "markdown",
   "metadata": {},
   "source": [
    "Here is an example of a unicode value being read:"
   ]
  },
  {
   "cell_type": "code",
   "execution_count": 17,
   "metadata": {},
   "outputs": [
    {
     "name": "stdout",
     "output_type": "stream",
     "text": [
      "Hello\n"
     ]
    }
   ],
   "source": [
    "# Unicode example\n",
    "data_sht.range('A2').value = 'Hello'\n",
    "print(data_sht.range('A2').value)"
   ]
  },
  {
   "cell_type": "markdown",
   "metadata": {},
   "source": [
    "Here is an example of a `None` value (empty cell) being read:"
   ]
  },
  {
   "cell_type": "code",
   "execution_count": 18,
   "metadata": {},
   "outputs": [
    {
     "name": "stdout",
     "output_type": "stream",
     "text": [
      "True\n"
     ]
    }
   ],
   "source": [
    "# None example\n",
    "print(data_sht.range('A3').value is None) # This should evaluate to True in Python"
   ]
  },
  {
   "cell_type": "markdown",
   "metadata": {},
   "source": [
    "Note that the code in the cell above will evaluate to `True` because there is no entry in cell A3."
   ]
  },
  {
   "cell_type": "markdown",
   "metadata": {},
   "source": [
    "7\\.  We can also handle lists with xlwings.  We begin by looking at one dimensional lists.  When working with one dimensional lists, ranges that represent rows or columns in Excel are returned as simple lists, which means that once they are in Python, you will lose the information about their orientation.  \n",
    "\n",
    "Note that with xlwings, you only need to specify the top left cell when writing a list, a NumPy array, or a Pandas DataFrame to Excel."
   ]
  },
  {
   "cell_type": "code",
   "execution_count": 19,
   "metadata": {},
   "outputs": [
    {
     "name": "stdout",
     "output_type": "stream",
     "text": [
      "[1.0, 2.0, 3.0, 4.0, 5.0]\n"
     ]
    }
   ],
   "source": [
    "# Write values 1-5 to cells D1-D5 on the sheet Data\n",
    "data_sht.range('D1').value = [[1], [2], [3], [4], [5]] # Column orientation\n",
    "\n",
    "# Grab values in cells D1-D5 and print them\n",
    "five_values = data_sht.range('D1:D5').value\n",
    "print(five_values)"
   ]
  },
  {
   "cell_type": "markdown",
   "metadata": {},
   "source": [
    "Notes:\n",
    "- We only had to specify cell D1 in the `range` method to identify the top left cell when writing to the spreadsheet.  \n",
    "- When we grab the values in cells D1-D5 in line 5 and print them, they are printed as a row even though they came from a column in Excel."
   ]
  },
  {
   "cell_type": "code",
   "execution_count": 20,
   "metadata": {},
   "outputs": [
    {
     "name": "stdout",
     "output_type": "stream",
     "text": [
      "[1.0, 2.0, 3.0, 4.0, 5.0]\n"
     ]
    }
   ],
   "source": [
    "# Write values 1-5 to cells D1-H1 on the sheet Data\n",
    "data_sht.range('D1').value = [1, 2, 3, 4, 5] # Row orientation\n",
    "\n",
    "# Grab values in cells D1-H1 and print them\n",
    "five_other_values = data_sht.range('D1:H1').value\n",
    "print(five_other_values)"
   ]
  },
  {
   "cell_type": "markdown",
   "metadata": {},
   "source": [
    "We can force a single cell to arrive as a list in Python like this:"
   ]
  },
  {
   "cell_type": "code",
   "execution_count": 21,
   "metadata": {},
   "outputs": [
    {
     "name": "stdout",
     "output_type": "stream",
     "text": [
      "[1.0]\n"
     ]
    }
   ],
   "source": [
    "# To force a single cell to arrive as a list, use:\n",
    "force_list = data_sht.range('D1').options(ndim=1).value\n",
    "\n",
    "# Note that this is a list with a single element, not a numeric value\n",
    "print(force_list)"
   ]
  },
  {
   "cell_type": "markdown",
   "metadata": {},
   "source": [
    "8\\.  If you want the row or column orientation to be preserved, you should set `ndim=2` in the `range` options.  This will return the ranges as nested, or two dimensional, lists."
   ]
  },
  {
   "cell_type": "code",
   "execution_count": 22,
   "metadata": {},
   "outputs": [
    {
     "name": "stdout",
     "output_type": "stream",
     "text": [
      "[[1.0], [2.0], [3.0], [4.0], [5.0]]\n"
     ]
    }
   ],
   "source": [
    "# Read values from cells D1-D5, preserving column orientation\n",
    "twod_column = data_sht.range('D1:D5').options(ndim=2).value\n",
    "\n",
    "# Note that this is a list of lists\n",
    "print(twod_column)"
   ]
  },
  {
   "cell_type": "code",
   "execution_count": 23,
   "metadata": {},
   "outputs": [
    {
     "name": "stdout",
     "output_type": "stream",
     "text": [
      "[[1.0, 2.0, 3.0, 4.0, 5.0]]\n"
     ]
    }
   ],
   "source": [
    "# Read values from cells D1-H1, preserving row orientation\n",
    "twod_row = data_sht.range('D1:H1').options(ndim=2).value\n",
    "\n",
    "# Note that this is a list of lists\n",
    "print(twod_row)"
   ]
  },
  {
   "cell_type": "markdown",
   "metadata": {},
   "source": [
    "It is important to remember that interactions with Excel can be \"costly\" in terms of processing time.  You should try to minimize the number of interactions with Excel.  For example, it is always more efficient to do the following"
   ]
  },
  {
   "cell_type": "code",
   "execution_count": 24,
   "metadata": {},
   "outputs": [],
   "source": [
    "data_sht.range('J1').value = [[1,2],[3,4]]"
   ]
  },
  {
   "cell_type": "markdown",
   "metadata": {},
   "source": [
    "than to do the following"
   ]
  },
  {
   "cell_type": "code",
   "execution_count": 25,
   "metadata": {},
   "outputs": [],
   "source": [
    "data_sht.range('J1').value = [1,2]\n",
    "data_sht.range('J2').value = [3,4]"
   ]
  },
  {
   "cell_type": "markdown",
   "metadata": {},
   "source": [
    "9\\. You can get Excel ranges dynamically &mdash; that is, without knowing their exact size &mdash; through\n",
    "\n",
    "1. the `expand` method or \n",
    "2. the `options` method with the `expand` keyword. \n",
    "    \n",
    "They are different in a very important way, though. See the example below."
   ]
  },
  {
   "cell_type": "code",
   "execution_count": 26,
   "metadata": {},
   "outputs": [
    {
     "name": "stdout",
     "output_type": "stream",
     "text": [
      "[[1.0, 2.0], [3.0, 4.0]]\n",
      "[[1.0, 2.0], [3.0, 4.0]]\n",
      "[[1.0, 2.0], [3.0, 4.0]]\n",
      "[[1.0, 2.0], [3.0, 4.0], [5.0, 6.0]]\n"
     ]
    }
   ],
   "source": [
    "# Read values from cell J1, expanding down and to the right,\n",
    "# using the expand method\n",
    "rng1 = data_sht.range('J1').expand('table')\n",
    "\n",
    "# Read values from cell J1, expanding down and to the right,\n",
    "# using the options method with the expand keyword\n",
    "rng2 = data_sht.range('J1').options(expand='table')\n",
    "\n",
    "# What do we get?\n",
    "print(rng1.value)\n",
    "print(rng2.value)\n",
    "\n",
    "# Add another row of values to our table\n",
    "data_sht.range('J3').value = [5, 6]\n",
    "\n",
    "# Now what do we get?\n",
    "print(rng1.value)\n",
    "print(rng2.value)"
   ]
  },
  {
   "cell_type": "markdown",
   "metadata": {},
   "source": [
    "The first two printouts using the code on lines 3 and 7 are identical, illustrating that the `expand` method and `options` method with the `expand` keyword are equivalent in this case. \n",
    "\n",
    "When we add an additional row of values using the code on line 14, we now see the difference between the `expand` method and the `options` method with the `expand` keyword.\n",
    "\n",
    "- The print statement on line 17 only gives the values 1 through 4 because `rng1` was defined with the `expand` method when there were only the four original values.\n",
    "\n",
    "- The print statement on line 18 gives the values 1 through 6 because `rng2` was defined with the `expand` keyword in the `options` method.  The `options` method is evaluated when the print statement on line 18 accesses the `rng2.value`, so it now includes the two new numbers (5 and 6) that were added after the original definition of `rng2`.\n",
    "\n",
    "Note that `'table'` expands to down and right.  You can use `'down'` by itself for column only expansion and `'right'` by itself for row only expansion."
   ]
  },
  {
   "cell_type": "markdown",
   "metadata": {},
   "source": [
    "10\\.  Sometimes you may want to clear the contents from a range of cells, but leave the existing formatting alone.  You can use the code below to do this."
   ]
  },
  {
   "cell_type": "code",
   "execution_count": 27,
   "metadata": {},
   "outputs": [],
   "source": [
    "# Clear the contents or a range of cells, but leave the formatting in place\n",
    "data_sht.range('A1:A2').clear_contents()"
   ]
  },
  {
   "cell_type": "markdown",
   "metadata": {},
   "source": [
    "11\\.  Other times you may want to clear the contents and formatting of an entire sheet.  You can do that with the code below."
   ]
  },
  {
   "cell_type": "code",
   "execution_count": 28,
   "metadata": {},
   "outputs": [],
   "source": [
    "# Clear the contents and formatting of an entire sheet\n",
    "data_sht.clear()"
   ]
  },
  {
   "cell_type": "markdown",
   "metadata": {},
   "source": [
    "12.  You can also use xlwings to put Matplotlib figures in Excel."
   ]
  },
  {
   "cell_type": "code",
   "execution_count": 29,
   "metadata": {
    "run_control": {
     "marked": false
    }
   },
   "outputs": [
    {
     "data": {
      "text/plain": [
       "<Picture 'MyPlot' in <Sheet [lesson10.xlsx]Plots>>"
      ]
     },
     "execution_count": 29,
     "metadata": {},
     "output_type": "execute_result"
    },
    {
     "data": {
      "image/png": "[encoded data removed]",
      "text/plain": [
       "<Figure size 432x288 with 1 Axes>"
      ]
     },
     "metadata": {
      "needs_background": "light"
     },
     "output_type": "display_data"
    }
   ],
   "source": [
    "# Import Matplotlib\n",
    "import matplotlib.pyplot as plt\n",
    "\n",
    "# Add a new sheet called \"Plots\" after the \"Data\" sheet\n",
    "plot_sht = wb.sheets.add('Plots', after='Data')\n",
    "\n",
    "# Initialize figure\n",
    "fig = plt.figure()\n",
    "\n",
    "# Plot a line through (1, 1), (2, 2), (3, 3), (4, 4), and (5, 5)\n",
    "plt.plot([1, 2, 3, 4, 5], [1, 2, 3, 4, 5])\n",
    "\n",
    "# Add the plot to the \"Plots\" sheet\n",
    "plot_sht.pictures.add(fig, name='MyPlot', update=True)"
   ]
  },
  {
   "cell_type": "markdown",
   "metadata": {},
   "source": [
    "You can see the name of the figure, `MyPlot`, just to the left of the formula bar in Excel if you click on the figure.\n",
    "\n",
    "Note that if you set `update=True`, you can resize and position the plot in Excel. Subsequent calls to `pictures.add()` with the same name `MyPlot` will update the picture without changing its position or size."
   ]
  },
  {
   "cell_type": "markdown",
   "metadata": {},
   "source": [
    "---"
   ]
  },
  {
   "cell_type": "markdown",
   "metadata": {},
   "source": [
    "## Classwork\n",
    "\n",
    "Now that you've been introduced to some of the features of xlwings.  Complete the exercises below."
   ]
  },
  {
   "cell_type": "markdown",
   "metadata": {},
   "source": [
    "__Problem 1.__\n",
    "Read about the `.join()` method for strings [here](https://realpython.com/python-string-split-concatenate-join/#going-from-a-list-to-a-string-in-python-with-join).\n",
    "\n",
    "In the same folder as this notebook, there is an Excel workbook called `SectionList.xlsx` containing the roster for a fictional section.\n",
    "Create a mailing list for all the midshipmen in the section: a single string containing everyone's e-mail address, separated by commas. Write the mailing list back to cell A1 in a worksheet named __Email__. The idea is that you can then copy and paste the list into Gmail.\n",
    "\n",
    "Note that you'll need to appropriately convert the alpha codes to @usna.edu email addresses."
   ]
  },
  {
   "cell_type": "code",
   "execution_count": 30,
   "metadata": {},
   "outputs": [],
   "source": [
    "wb = xw.Book('SectionList.xlsx')\n",
    "sht = wb.sheets['Sheet1']\n",
    "alpha_list = sht.range('A2').expand('down').value\n",
    "\n",
    "# Initialize the email list\n",
    "email_list = []\n",
    "\n",
    "# Loop through the alphas, add email addresses\n",
    "for alpha in alpha_list:\n",
    "    alpha_str = str(int(alpha))\n",
    "    email = f'm{alpha_str}@usna.edu'\n",
    "    email_list.append(email)\n",
    "    \n",
    "# Create the mailing list string\n",
    "email_list_str = ','.join(email_list)\n",
    "\n",
    "# Add a sheet called Email after the sheet called Sheet1\n",
    "email_sht = wb.sheets.add('Email', after='Sheet1')\n",
    "\n",
    "# Write the entire email address list to the cell A1 on sheet Email\n",
    "email_sht.range('A1').value = email_list_str"
   ]
  },
  {
   "cell_type": "markdown",
   "metadata": {},
   "source": [
    "__Problem 2.__\n",
    "In the Excel workbook `Preferences.xlsx`, match the preferences for teaching times on the sheet named __Input__, which were captured chronologically, to the instructors listed alphabetically on the sheet named __Output__.  You should first clear the contents on the sheet __Output__ in the range B2:AE27, and then write the appropriate preferences next to each instructor on the sheet __Output__."
   ]
  },
  {
   "cell_type": "code",
   "execution_count": 31,
   "metadata": {},
   "outputs": [],
   "source": [
    "wb = xw.Book('Preferences.xlsx')\n",
    "input_sht = wb.sheets['Input']\n",
    "output_sht = wb.sheets['Output']\n",
    "\n",
    "# Clear current contents in output worksheet\n",
    "output_sht.range('B2:AE27').clear()\n",
    "\n",
    "# Dynamically find the total number of instructors\n",
    "inst = input_sht.range('A2').expand('down')\n",
    "num_inst = len(inst)\n",
    "\n",
    "# Iterate over the instructors in the input sheet\n",
    "for i in range(num_inst):\n",
    "    # Get name and preferences of current instructor\n",
    "    cur_inst = wb.sheets['Input'].range(f'A{i + 2}').value\n",
    "    cur_pref = wb.sheets['Input'].range(f'C{i + 2}:AF{i + 2}').value\n",
    "    \n",
    "    # Look for match in the output sheet\n",
    "    # Write preferences for that person\n",
    "    for j in range(num_inst):\n",
    "        if wb.sheets['Output'].range(f'A{j + 2}').value == cur_inst:\n",
    "            wb.sheets['Output'].range(f'B{j + 2}:AE{j + 2}').value = cur_pref"
   ]
  },
  {
   "cell_type": "markdown",
   "metadata": {},
   "source": [
    "__Problem 3.__ (This problem is based on an example from _Automate the Boring Stuff with Python_ by Al Sweigart) \n",
    "\n",
    "Write code that updates the cells in the Excel workbook `updatedProduceSales.xlsx` as follows. Each row in the __Sheet1__ of the workbook represents an individual sale.  The columns contain the type of produce sold (A), the cost per pound of that produce (B), the number of pounds sold (C), and the total revenue from the sale (D).  The TOTAL column (column D) is set to the Excel formula `=ROUND(B3*C3, 2)`, which multiplies the cost per pound by the number of pounds sold and rounds the result to the nearest cent.  With this formula, the cells in the TOTAL column will automatically update themselves if there is a change in column B or C.\n",
    "\n",
    "Let's assume that the prices of garlic, celery, and lemons were entered incorrectly, which would require someone to go through thousands of rows in the spreadsheet to update the cost per pound for any garlic, celery, and lemon rows.  You can't do a simple find-and-replace for the price because there may be other items with the same price that you don't want to update by mistake.  Your code should do the following:\n",
    "\n",
    " - Loop over all the rows.\n",
    " - For each row, if the value in column A is garlic, celery, or lemons, update the price in column B.\n",
    "\n",
    "The prices you need to update are as follows:  Celery should be 1.19, Garlic should be 3.07, and Lemon should be 1.27.  There are several ways you could write the code to handle this situation.  You may want to store the corrected price information in a dictionary and write your code to use this data structure."
   ]
  },
  {
   "cell_type": "code",
   "execution_count": 32,
   "metadata": {},
   "outputs": [],
   "source": [
    "wb = xw.Book('updatedProduceSales.xlsx')\n",
    "sht = wb.sheets['Sheet1']\n",
    "\n",
    "# The produce types and their updated prices\n",
    "PRICE_UPDATES = {\n",
    "    'Garlic': 3.07,\n",
    "    'Celery': 1.19,\n",
    "    'Lemon': 1.27\n",
    "}\n",
    "\n",
    "# Figure out the number of rows of data\n",
    "all_sales = sht.range('A2').expand('down')\n",
    "num_rows = len(all_sales)\n",
    "\n",
    "# Loop through the rows and update the prices\n",
    "for r in range(2, num_rows + 2): # skip the first row\n",
    "    produce_name = sht.range(f'A{r}').value\n",
    "    if produce_name in PRICE_UPDATES:\n",
    "        sht.range(f'B{r}').value = PRICE_UPDATES[produce_name]"
   ]
  }
 ],
 "metadata": {
  "kernelspec": {
   "display_name": "Python 3",
   "language": "python",
   "name": "python3"
  },
  "language_info": {
   "codemirror_mode": {
    "name": "ipython",
    "version": 3
   },
   "file_extension": ".py",
   "mimetype": "text/x-python",
   "name": "python",
   "nbconvert_exporter": "python",
   "pygments_lexer": "ipython3",
   "version": "3.7.6"
  }
 },
 "nbformat": 4,
 "nbformat_minor": 2
}
